{
  "nbformat": 4,
  "nbformat_minor": 0,
  "metadata": {
    "colab": {
      "provenance": []
    },
    "kernelspec": {
      "name": "python3",
      "display_name": "Python 3"
    },
    "language_info": {
      "name": "python"
    }
  },
  "cells": [
    {
      "cell_type": "markdown",
      "source": [
        " ** Counting Sort** is a **non-comparison-based sorting** algorithm that works well when there is **limited range of input values**. It is particularly efficient when the range of **input values is small** compared to the number of elements to be sorted. The basic idea behind Counting Sort is to count the frequency of each distinct element in the input array and use that information to place the elements in their correct sorted positions.\n"
      ],
      "metadata": {
        "id": "MlVge_GHwywe"
      }
    },
    {
      "cell_type": "markdown",
      "source": [
        " It operates by counting the number of objects that have each distinct key value, and using arithmetic on those counts to determine the positions of each key value in the output sequence. Here's a simple Python implementation of counting sort:"
      ],
      "metadata": {
        "id": "6kKBQ6X8vtEK"
      }
    },
    {
      "cell_type": "markdown",
      "source": [
        "This implementation assumes that the input array contains **non-negative integers**. If your array contains negative integers or non-integer values, the algorithm would need to be adjusted accordingly."
      ],
      "metadata": {
        "id": "_cnxo-FNwAwI"
      }
    },
    {
      "cell_type": "code",
      "metadata": {
        "id": "sxNuiZknSBy9"
      },
      "source": [
        "#counting sort\n",
        "input_array = [1,1,2,5,4,5,7,7,7,6,3,0,0,0,1,2]"
      ],
      "execution_count": 1,
      "outputs": []
    },
    {
      "cell_type": "markdown",
      "source": [
        "Make sure to replace **input_array** with your actual array and **max(input_array)** with the maximum value in your array."
      ],
      "metadata": {
        "id": "eXj8hQvfv_qd"
      }
    },
    {
      "cell_type": "code",
      "source": [
        "# Finding the maximum element of input_array.\n",
        "M = max(input_array)"
      ],
      "metadata": {
        "id": "Zse57fq2oqaG"
      },
      "execution_count": 2,
      "outputs": []
    },
    {
      "cell_type": "code",
      "metadata": {
        "id": "AwICsBQWVcaq",
        "colab": {
          "base_uri": "https://localhost:8080/"
        },
        "outputId": "a5a950d5-8786-478d-ce2d-924bfa5494fc"
      },
      "source": [
        "# Initializing count_array with 0\n",
        "count_array = [0] * (M + 1)\n",
        "print(count_array)"
      ],
      "execution_count": 3,
      "outputs": [
        {
          "output_type": "stream",
          "name": "stdout",
          "text": [
            "[0, 0, 0, 0, 0, 0, 0, 0]\n"
          ]
        }
      ]
    },
    {
      "cell_type": "code",
      "metadata": {
        "id": "r96WuIxNVh_S"
      },
      "source": [
        "#count the occurrences of each value in the original array\n",
        "for num in input_array:\n",
        "      count_array[num] += 1"
      ],
      "execution_count": 5,
      "outputs": []
    },
    {
      "cell_type": "code",
      "metadata": {
        "id": "1kTMOFujViyC"
      },
      "source": [
        "#reconstruct the storted array i=index of count_array and cnt=value of each index of count_array\n",
        "sorted_array=[]\n",
        "for i, cnt in enumerate(count_array):\n",
        "  sorted_array.extend([i]* cnt)"
      ],
      "execution_count": 6,
      "outputs": []
    },
    {
      "cell_type": "code",
      "metadata": {
        "colab": {
          "base_uri": "https://localhost:8080/"
        },
        "id": "xbjZ5kOZVpiE",
        "outputId": "0eb72db8-3670-4980-badc-1f70523f18a0"
      },
      "source": [
        "print(sorted_array)"
      ],
      "execution_count": 10,
      "outputs": [
        {
          "output_type": "stream",
          "name": "stdout",
          "text": [
            "[0, 0, 0, 1, 1, 1, 2, 2, 3, 4, 5, 5, 6, 7, 7, 7]\n"
          ]
        }
      ]
    },
    {
      "cell_type": "markdown",
      "source": [
        "The complexity analysis of Counting Sort is an important aspect to understand its efficiency. Here's a breakdown of its time and space complexity:\n",
        "\n",
        "## Time Complexity\n",
        "The time complexity of Counting Sort is O(n+k), where:\n",
        "- n is the number of elements in the array to be sorted.\n",
        "- k is the range of input values (i.e., the difference between the maximum and minimum element values).\n",
        "\n",
        "This complexity arises because the algorithm involves:\n",
        "- Counting each element (which takes O(n) time).\n",
        "- Then, creating a cumulative count array (which takes O(k) time).\n",
        "- Finally, placing each element in its correct position in the sorted array (which again takes O(n) time).\n",
        "\n",
        "In scenarios where k is not significantly larger than n, Counting Sort can be very efficient.\n",
        "\n",
        "## Space Complexity\n",
        "The space complexity of Counting Sort is also O(n+k). This is due to:\n",
        "- The space required for the input array (**O(n)**).\n",
        "- The space needed for the auxiliary count array, which has a size based on the range of the input values (**O(k)**).\n",
        "\n",
        "## Best, Average, and Worst Cases\n",
        "For Counting Sort, all three cases (best, average, and worst) have the same time complexity of O(n+k). This is because the algorithm processes each input element exactly once and then uses the count array to determine positions, regardless of the initial order of the elements.\n",
        "\n",
        "## Advantages\n",
        "Counting Sort is particularly advantageous when:\n",
        "- The range of potential values (**k**) is not much larger than the number of elements (**n**).\n",
        "- The input is already known to consist of integers within a specific range.\n",
        "\n",
        "## Disadvantages\n",
        "However, Counting Sort can be less efficient when:\n",
        "- The range of input values (**k**) is very large compared to n, as it can lead to a large amount of unused space and increased memory usage.\n",
        "\n",
        "Counting Sort is a stable and non-comparison-based sorting algorithm, which makes it unique among other sorting algorithms. It maintains the relative order of equal elements and does not compare elements directly during the sorting process."
      ],
      "metadata": {
        "id": "8y8I1GEleaH0"
      }
    }
  ]
}