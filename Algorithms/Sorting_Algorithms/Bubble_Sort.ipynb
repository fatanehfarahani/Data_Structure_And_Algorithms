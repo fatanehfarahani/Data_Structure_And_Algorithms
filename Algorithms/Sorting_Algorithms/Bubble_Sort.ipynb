{
  "nbformat": 4,
  "nbformat_minor": 0,
  "metadata": {
    "colab": {
      "provenance": []
    },
    "kernelspec": {
      "name": "python3",
      "display_name": "Python 3"
    },
    "language_info": {
      "name": "python"
    }
  },
  "cells": [
    {
      "cell_type": "markdown",
      "source": [
        "**Bubble Sort** is a straightforward and intuitive sorting algorithm. It's a **comparison-based algorithm** in which each pair of adjacent elements is compared and the elements are swapped if they are not in order. This process is repeated until no more swaps are needed, which indicates that the list is sorted."
      ],
      "metadata": {
        "id": "MlVge_GHwywe"
      }
    },
    {
      "cell_type": "markdown",
      "source": [
        "**The algorithm follows these steps:**\n",
        "\n",
        "1. Start from the last element of the array.\n",
        "2. Compare the current element to the previous element.\n",
        "3. Swap if necessary: If the current element is greater than the previous element, swap them.\n",
        "4. Move to the previous element and repeat the comparison and swap if necessary.\n",
        "5. Complete the pass: Once the start of the array is reached, one pass is completed. The lowest element will have \"bubbled up\" to the correct position at the start of the array.\n",
        "6. Repeat the process for the remaining unsorted part of the array.\n",
        "7. End when no swaps are needed: The algorithm stops when a complete pass is made without any swaps, indicating that the array is sorted."
      ],
      "metadata": {
        "id": "6kKBQ6X8vtEK"
      }
    },
    {
      "cell_type": "code",
      "metadata": {
        "id": "sxNuiZknSBy9"
      },
      "source": [
        "input_array = [4, -1, -7, 2, 9, -6, 1, 3, 11, 6, 14]"
      ],
      "execution_count": 2,
      "outputs": []
    },
    {
      "cell_type": "code",
      "source": [
        "n = len(input_array)\n",
        "for i in range(n):\n",
        "        # Track if a swap was made in this pass\n",
        "        swapped = False\n",
        "        for j in range(n-1, i, -1): # range(start,stop,step)\n",
        "            # Compare and swap if the current element is greater\n",
        "            if input_array[j] < input_array[j-1]:\n",
        "                input_array[j], input_array[j-1] = input_array[j-1], input_array[j]\n",
        "                swapped = True\n",
        "        # If no swap was made, the array is sorted\n",
        "        if not swapped:\n",
        "            break\n",
        "print(input_array)"
      ],
      "metadata": {
        "colab": {
          "base_uri": "https://localhost:8080/"
        },
        "id": "Zse57fq2oqaG",
        "outputId": "97a7ce9f-8043-4254-8a6c-8c1d7d154d0e"
      },
      "execution_count": 3,
      "outputs": [
        {
          "output_type": "stream",
          "name": "stdout",
          "text": [
            "[-7, -6, -1, 1, 2, 3, 4, 6, 9, 11, 14]\n"
          ]
        }
      ]
    },
    {
      "cell_type": "markdown",
      "source": [
        "The complexity analysis of Bubble Sort involves examining its time and space complexity to understand how the algorithm scales with the size of the input data.\n",
        "\n",
        "Time Complexity:\n",
        "- Best Case: The best case occurs when the array is already sorted, and no swaps are needed. In this scenario, the algorithm only needs to make one pass through the array, resulting in a time complexity of $$ O(n) $$, where n is the number of elements in the array.\n",
        "- Average Case: The average case assumes that the elements are randomly distributed. In this case, the time complexity is $$ O(n^2) $$ because each element may need to be compared and swapped with every other element.\n",
        "- Worst Case: The worst case occurs when the array is sorted in reverse order. Every element needs to be compared and swapped with each other element, leading to a time complexity of $$ O(n^2) $$.\n",
        "\n",
        "Space Complexity:\n",
        "- Regardless of the case, Bubble Sort has a space complexity of $$ O(1) $$ because it only requires a constant amount of additional space for swapping elements¹.\n",
        "\n",
        "The key takeaway is that while Bubble Sort is simple and does not require additional memory beyond the original array, it is not efficient for large datasets due to its quadratic time complexity in the average and worst cases."
      ],
      "metadata": {
        "id": "8y8I1GEleaH0"
      }
    }
  ]
}