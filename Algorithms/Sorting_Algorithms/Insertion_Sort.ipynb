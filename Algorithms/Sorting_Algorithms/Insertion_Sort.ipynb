{
  "nbformat": 4,
  "nbformat_minor": 0,
  "metadata": {
    "colab": {
      "provenance": []
    },
    "kernelspec": {
      "name": "python3",
      "display_name": "Python 3"
    },
    "language_info": {
      "name": "python"
    }
  },
  "cells": [
    {
      "cell_type": "markdown",
      "source": [
        "**Insertion Sort** is a **simple** and **intuitive** sorting algorithm that builds the final sorted array (or list) one item at a time. It is particularly useful for **small datasets** or when you have a mostly **sorted array** with a few elements out of place."
      ],
      "metadata": {
        "id": "MlVge_GHwywe"
      }
    },
    {
      "cell_type": "markdown",
      "source": [
        "It's much like how you might sort a hand of playing cards, inserting each new card into its proper place among those already sorted.\n",
        "\n",
        "**How It Works**\n",
        "\n",
        "Imagine you're sorting a deck of cards. You start with one card in your hand, which is trivially sorted. As you pick up each new card, you insert it into the correct position relative to the already sorted cards. This process continues until all cards are sorted and in hand.\n",
        "\n",
        "In terms of code, Insertion Sort iterates through an array and removes one element per iteration, finding the location it belongs within the sorted sequence and inserting it there. It repeats until no input elements remain."
      ],
      "metadata": {
        "id": "6kKBQ6X8vtEK"
      }
    },
    {
      "cell_type": "markdown",
      "source": [
        " **Process**\n",
        "\n",
        "Here's how Insertion Sort operates:\n",
        "\n",
        "1. Start with the second element of the array (the first element is considered sorted).\n",
        "2. Compare this element with the one before it. If it's smaller, swap them.\n",
        "3. Continue to the next element and compare it with the previous elements, swapping as necessary until it's in the correct position.\n",
        "4. Repeat this process for each element until the entire array is sorted."
      ],
      "metadata": {
        "id": "_cnxo-FNwAwI"
      }
    },
    {
      "cell_type": "code",
      "metadata": {
        "id": "sxNuiZknSBy9"
      },
      "source": [
        "#Insertion sort\n",
        "input_array = [3, 1, -5, 4, 8, -6, 2, 9, 11, 6, -7]"
      ],
      "execution_count": 12,
      "outputs": []
    },
    {
      "cell_type": "markdown",
      "source": [
        "Insertion Sort is used when:\n",
        "- The array is already mostly sorted.\n",
        "- You need a simple algorithm with a small footprint.\n",
        "- The dataset is small."
      ],
      "metadata": {
        "id": "eXj8hQvfv_qd"
      }
    },
    {
      "cell_type": "code",
      "source": [
        "# Insert all elements 2 to n\n",
        "for i in range(1, len(input_array)):\n",
        "  # The i'th element to be inserted\n",
        "        key = input_array[i]\n",
        "        j = i - 1\n",
        "        while j >= 0 and input_array[j] > key:\n",
        "           # Shift to right\n",
        "            input_array[j + 1] = input_array[j]\n",
        "            j -= 1\n",
        "           # Insertion\n",
        "        input_array[j + 1] = key\n",
        "        print(input_array)"
      ],
      "metadata": {
        "colab": {
          "base_uri": "https://localhost:8080/"
        },
        "id": "Zse57fq2oqaG",
        "outputId": "64558b4c-df5e-430b-cba3-b2a1f85f9055"
      },
      "execution_count": 13,
      "outputs": [
        {
          "output_type": "stream",
          "name": "stdout",
          "text": [
            "[1, 3, -5, 4, 8, -6, 2, 9, 11, 6, -7]\n",
            "[-5, 1, 3, 4, 8, -6, 2, 9, 11, 6, -7]\n",
            "[-5, 1, 3, 4, 8, -6, 2, 9, 11, 6, -7]\n",
            "[-5, 1, 3, 4, 8, -6, 2, 9, 11, 6, -7]\n",
            "[-6, -5, 1, 3, 4, 8, 2, 9, 11, 6, -7]\n",
            "[-6, -5, 1, 2, 3, 4, 8, 9, 11, 6, -7]\n",
            "[-6, -5, 1, 2, 3, 4, 8, 9, 11, 6, -7]\n",
            "[-6, -5, 1, 2, 3, 4, 8, 9, 11, 6, -7]\n",
            "[-6, -5, 1, 2, 3, 4, 6, 8, 9, 11, -7]\n",
            "[-7, -6, -5, 1, 2, 3, 4, 6, 8, 9, 11]\n"
          ]
        }
      ]
    },
    {
      "cell_type": "code",
      "metadata": {
        "colab": {
          "base_uri": "https://localhost:8080/"
        },
        "id": "xbjZ5kOZVpiE",
        "outputId": "cb1c03c1-5dab-40e4-b9ad-d20914d60513"
      },
      "source": [
        "print(input_array)"
      ],
      "execution_count": 14,
      "outputs": [
        {
          "output_type": "stream",
          "name": "stdout",
          "text": [
            "[1, 2, 4, 5, 5, 6, 6, 7, 9, 10, 12]\n"
          ]
        }
      ]
    },
    {
      "cell_type": "markdown",
      "source": [
        "The complexity analysis of Insertion Sort is crucial for understanding its performance characteristics. Here's a detailed breakdown:\n",
        "\n",
        "## Time Complexity\n",
        "- Best Case: The best-case scenario occurs when the array is already sorted, and no movement is needed after the initial comparison. The time complexity in this case is $$ O(n) $$, where \\( n \\) is the number of elements.\n",
        "- Average Case: In the average case, the array elements are in random order. Each element may require comparisons and shifts equal to the number of elements already sorted. This results in a time complexity of $$ O(n^2) $$.\n",
        "- Worst Case: The worst-case scenario happens when the array is sorted in reverse order. Each new element has to be compared with all the other elements already sorted. Thus, the time complexity is also $$ O(n^2) $$.\n",
        "\n",
        "## Space Complexity\n",
        "- Auxiliary Space: Insertion Sort is an in-place sorting algorithm. It requires a constant amount of additional space, making the auxiliary space complexity $$ O(1) $$.\n",
        "\n",
        "## Characteristics\n",
        "- Adaptive: The time complexity can be better than $$ O(n^2) $$ if the array is partially sorted.\n",
        "- Stable: It maintains the relative order of duplicate elements.\n",
        "- In-Place: It sorts the array without using extra space.\n",
        "\n",
        "Insertion Sort is efficient for small datasets or when the array is nearly sorted. Its simplicity makes it easy to implement, but for larger datasets, more efficient algorithms are recommended due to its quadratic time complexity."
      ],
      "metadata": {
        "id": "8y8I1GEleaH0"
      }
    }
  ]
}